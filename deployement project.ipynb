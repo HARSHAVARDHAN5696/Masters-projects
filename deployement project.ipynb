{
 "cells": [
  {
   "cell_type": "markdown",
   "id": "c033151e",
   "metadata": {},
   "source": [
    "## DATA SET INFO\n",
    "- Our dataset is about the crimes and arrest details that happened in Dallas city. (Link: https://www.dallasopendata.com/Public-Safety/Police-Arrests/sdr7-6v3j/about_data)\n",
    "- Our dataset has 108160 rows and 65 columns.\n",
    "- Our datset have details about Incident information, Location of the information, Officer and arrest details, Culprit information, "
   ]
  },
  {
   "cell_type": "markdown",
   "id": "1519dd3e",
   "metadata": {},
   "source": [
    " ## QUESTION OF INTREST\n",
    "- How do factors such as demographics, location, and time period impact arrest patterns, and how can these data points be utilized to predict future arrests with machine learning models?"
   ]
  },
  {
   "cell_type": "code",
   "execution_count": 1,
   "id": "6b3e3ca6",
   "metadata": {
    "scrolled": false
   },
   "outputs": [
    {
     "name": "stderr",
     "output_type": "stream",
     "text": [
      "C:\\Users\\hp\\AppData\\Local\\Temp\\ipykernel_17952\\2443013738.py:3: DtypeWarning: Columns (14,30,45,46,54,55,59) have mixed types. Specify dtype option on import or set low_memory=False.\n",
      "  data = pd.read_csv(r\"C:\\Users\\hp\\OneDrive\\Documents\\Deployement\\dataset.csv\")\n"
     ]
    },
    {
     "data": {
      "text/html": [
       "<div>\n",
       "<style scoped>\n",
       "    .dataframe tbody tr th:only-of-type {\n",
       "        vertical-align: middle;\n",
       "    }\n",
       "\n",
       "    .dataframe tbody tr th {\n",
       "        vertical-align: top;\n",
       "    }\n",
       "\n",
       "    .dataframe thead th {\n",
       "        text-align: right;\n",
       "    }\n",
       "</style>\n",
       "<table border=\"1\" class=\"dataframe\">\n",
       "  <thead>\n",
       "    <tr style=\"text-align: right;\">\n",
       "      <th></th>\n",
       "      <th>IncidentNum</th>\n",
       "      <th>ArrestYr</th>\n",
       "      <th>ArrestNumber</th>\n",
       "      <th>ArArrestDate</th>\n",
       "      <th>ArArrestTime</th>\n",
       "      <th>ArBkDate</th>\n",
       "      <th>ArLAddress</th>\n",
       "      <th>ArLApt</th>\n",
       "      <th>ArLZip</th>\n",
       "      <th>ArLCity</th>\n",
       "      <th>...</th>\n",
       "      <th>TatooComment</th>\n",
       "      <th>Occupation</th>\n",
       "      <th>JobSchStatus</th>\n",
       "      <th>Employer</th>\n",
       "      <th>Drug</th>\n",
       "      <th>DrugRelated</th>\n",
       "      <th>DrugType</th>\n",
       "      <th>ClothingWorn</th>\n",
       "      <th>Expunged</th>\n",
       "      <th>UpZDate</th>\n",
       "    </tr>\n",
       "  </thead>\n",
       "  <tbody>\n",
       "    <tr>\n",
       "      <th>0</th>\n",
       "      <td>053778-2023</td>\n",
       "      <td>2023</td>\n",
       "      <td>23-008157</td>\n",
       "      <td>Mar 30, 2023</td>\n",
       "      <td>23:00</td>\n",
       "      <td>Mar 31, 2023</td>\n",
       "      <td>12670 E NORTHWEST HWY</td>\n",
       "      <td>NaN</td>\n",
       "      <td>75228.0</td>\n",
       "      <td>DALLAS</td>\n",
       "      <td>...</td>\n",
       "      <td>NaN</td>\n",
       "      <td>NaN</td>\n",
       "      <td>NaN</td>\n",
       "      <td>NaN</td>\n",
       "      <td>NaN</td>\n",
       "      <td>No</td>\n",
       "      <td>NaN</td>\n",
       "      <td>SHIRT, JEANS</td>\n",
       "      <td>NaN</td>\n",
       "      <td>2023-03-31 00:48:16</td>\n",
       "    </tr>\n",
       "    <tr>\n",
       "      <th>1</th>\n",
       "      <td>053735-2023</td>\n",
       "      <td>2023</td>\n",
       "      <td>23-008152</td>\n",
       "      <td>Mar 30, 2023</td>\n",
       "      <td>20:58</td>\n",
       "      <td>Mar 31, 2023</td>\n",
       "      <td>1633 N COCKRELL HILL RD</td>\n",
       "      <td>NaN</td>\n",
       "      <td>75211.0</td>\n",
       "      <td>DALLAS</td>\n",
       "      <td>...</td>\n",
       "      <td>NaN</td>\n",
       "      <td>NaN</td>\n",
       "      <td>NaN</td>\n",
       "      <td>NaN</td>\n",
       "      <td>NaN</td>\n",
       "      <td>No</td>\n",
       "      <td>NaN</td>\n",
       "      <td>YELLOW REFLECTIVE VEST, BLUE JEANS, BOOTS</td>\n",
       "      <td>NaN</td>\n",
       "      <td>2023-03-31 00:29:25</td>\n",
       "    </tr>\n",
       "    <tr>\n",
       "      <th>2</th>\n",
       "      <td>049964-2023</td>\n",
       "      <td>2023</td>\n",
       "      <td>23-007555</td>\n",
       "      <td>Mar 24, 2023</td>\n",
       "      <td>20:50</td>\n",
       "      <td>Mar 24, 2023</td>\n",
       "      <td>1700 JULIUS SCHEPPS FWY</td>\n",
       "      <td>NaN</td>\n",
       "      <td>75216.0</td>\n",
       "      <td>DALLAS</td>\n",
       "      <td>...</td>\n",
       "      <td>NaN</td>\n",
       "      <td>NaN</td>\n",
       "      <td>NaN</td>\n",
       "      <td>NaN</td>\n",
       "      <td>NaN</td>\n",
       "      <td>No</td>\n",
       "      <td>NaN</td>\n",
       "      <td>GRAY HOODIE AND BLACK PANTS</td>\n",
       "      <td>NaN</td>\n",
       "      <td>2023-03-24 23:15:44</td>\n",
       "    </tr>\n",
       "    <tr>\n",
       "      <th>3</th>\n",
       "      <td>053425-2023</td>\n",
       "      <td>2023</td>\n",
       "      <td>23-008106</td>\n",
       "      <td>Mar 30, 2023</td>\n",
       "      <td>10:58</td>\n",
       "      <td>Mar 30, 2023</td>\n",
       "      <td>18777 MIDWAY RD</td>\n",
       "      <td>NaN</td>\n",
       "      <td>75287.0</td>\n",
       "      <td>DALLAS</td>\n",
       "      <td>...</td>\n",
       "      <td>NaN</td>\n",
       "      <td>NaN</td>\n",
       "      <td>NaN</td>\n",
       "      <td>NaN</td>\n",
       "      <td>NaN</td>\n",
       "      <td>No</td>\n",
       "      <td>NaN</td>\n",
       "      <td>CAMO JACKET, WHITE TANK TOP, GREEN SHORTS</td>\n",
       "      <td>NaN</td>\n",
       "      <td>2023-03-30 15:19:01</td>\n",
       "    </tr>\n",
       "    <tr>\n",
       "      <th>4</th>\n",
       "      <td>053204-2023</td>\n",
       "      <td>2023</td>\n",
       "      <td>23-008062</td>\n",
       "      <td>Mar 29, 2023</td>\n",
       "      <td>23:26</td>\n",
       "      <td>Mar 30, 2023</td>\n",
       "      <td>5700 JUNIUS ST</td>\n",
       "      <td>NaN</td>\n",
       "      <td>75214.0</td>\n",
       "      <td>DALLAS</td>\n",
       "      <td>...</td>\n",
       "      <td>NaN</td>\n",
       "      <td>NaN</td>\n",
       "      <td>NaN</td>\n",
       "      <td>NaN</td>\n",
       "      <td>NaN</td>\n",
       "      <td>Yes</td>\n",
       "      <td>Methamphetamine</td>\n",
       "      <td>BLACK SHIRT AND SHORTS</td>\n",
       "      <td>NaN</td>\n",
       "      <td>2023-03-30 02:04:48</td>\n",
       "    </tr>\n",
       "  </tbody>\n",
       "</table>\n",
       "<p>5 rows × 65 columns</p>\n",
       "</div>"
      ],
      "text/plain": [
       "   IncidentNum  ArrestYr ArrestNumber  ArArrestDate ArArrestTime  \\\n",
       "0  053778-2023      2023    23-008157  Mar 30, 2023        23:00   \n",
       "1  053735-2023      2023    23-008152  Mar 30, 2023        20:58   \n",
       "2  049964-2023      2023    23-007555  Mar 24, 2023        20:50   \n",
       "3  053425-2023      2023    23-008106  Mar 30, 2023        10:58   \n",
       "4  053204-2023      2023    23-008062  Mar 29, 2023        23:26   \n",
       "\n",
       "       ArBkDate               ArLAddress ArLApt   ArLZip ArLCity  ...  \\\n",
       "0  Mar 31, 2023    12670 E NORTHWEST HWY    NaN  75228.0  DALLAS  ...   \n",
       "1  Mar 31, 2023  1633 N COCKRELL HILL RD    NaN  75211.0  DALLAS  ...   \n",
       "2  Mar 24, 2023  1700 JULIUS SCHEPPS FWY    NaN  75216.0  DALLAS  ...   \n",
       "3  Mar 30, 2023          18777 MIDWAY RD    NaN  75287.0  DALLAS  ...   \n",
       "4  Mar 30, 2023           5700 JUNIUS ST    NaN  75214.0  DALLAS  ...   \n",
       "\n",
       "  TatooComment Occupation  JobSchStatus  Employer Drug  DrugRelated  \\\n",
       "0          NaN        NaN           NaN       NaN  NaN           No   \n",
       "1          NaN        NaN           NaN       NaN  NaN           No   \n",
       "2          NaN        NaN           NaN       NaN  NaN           No   \n",
       "3          NaN        NaN           NaN       NaN  NaN           No   \n",
       "4          NaN        NaN           NaN       NaN  NaN          Yes   \n",
       "\n",
       "          DrugType                               ClothingWorn Expunged  \\\n",
       "0              NaN                               SHIRT, JEANS      NaN   \n",
       "1              NaN  YELLOW REFLECTIVE VEST, BLUE JEANS, BOOTS      NaN   \n",
       "2              NaN                GRAY HOODIE AND BLACK PANTS      NaN   \n",
       "3              NaN  CAMO JACKET, WHITE TANK TOP, GREEN SHORTS      NaN   \n",
       "4  Methamphetamine                     BLACK SHIRT AND SHORTS      NaN   \n",
       "\n",
       "               UpZDate  \n",
       "0  2023-03-31 00:48:16  \n",
       "1  2023-03-31 00:29:25  \n",
       "2  2023-03-24 23:15:44  \n",
       "3  2023-03-30 15:19:01  \n",
       "4  2023-03-30 02:04:48  \n",
       "\n",
       "[5 rows x 65 columns]"
      ]
     },
     "execution_count": 1,
     "metadata": {},
     "output_type": "execute_result"
    }
   ],
   "source": [
    "#First import the dataset into the jupyter\n",
    "import pandas as pd\n",
    "data = pd.read_csv(r\"C:\\Users\\hp\\OneDrive\\Documents\\Deployement\\dataset.csv\")\n",
    "data.head()"
   ]
  },
  {
   "cell_type": "markdown",
   "id": "379c7a87",
   "metadata": {},
   "source": [
    " ## EXPLORATORY DATA ANALYSIS"
   ]
  },
  {
   "cell_type": "code",
   "execution_count": 2,
   "id": "b34b1799",
   "metadata": {
    "scrolled": true
   },
   "outputs": [
    {
     "name": "stdout",
     "output_type": "stream",
     "text": [
      "Dataset Overview:\n",
      "<class 'pandas.core.frame.DataFrame'>\n",
      "RangeIndex: 108160 entries, 0 to 108159\n",
      "Data columns (total 65 columns):\n",
      " #   Column           Non-Null Count   Dtype  \n",
      "---  ------           --------------   -----  \n",
      " 0   IncidentNum      108160 non-null  object \n",
      " 1   ArrestYr         108160 non-null  int64  \n",
      " 2   ArrestNumber     108160 non-null  object \n",
      " 3   ArArrestDate     108160 non-null  object \n",
      " 4   ArArrestTime     108160 non-null  object \n",
      " 5   ArBkDate         107919 non-null  object \n",
      " 6   ArLAddress       108140 non-null  object \n",
      " 7   ArLApt           8945 non-null    object \n",
      " 8   ArLZip           108123 non-null  float64\n",
      " 9   ArLCity          108079 non-null  object \n",
      " 10  ArState          107722 non-null  object \n",
      " 11  ArLCounty        106110 non-null  object \n",
      " 12  ArLRA            91114 non-null   float64\n",
      " 13  ArLBeat          105366 non-null  float64\n",
      " 14  ArLDistrict      101244 non-null  object \n",
      " 15  ArLSector        64401 non-null   float64\n",
      " 16  ArADOW           108160 non-null  object \n",
      " 17  ArPremises       81034 non-null   object \n",
      " 18  CFS_Number       107602 non-null  object \n",
      " 19  ArOfcr1          108123 non-null  object \n",
      " 20  ArOfcr2          79754 non-null   object \n",
      " 21  Transport1       108097 non-null  object \n",
      " 22  Transport2       63859 non-null   object \n",
      " 23  Transport3       3 non-null       float64\n",
      " 24  Search1          1 non-null       float64\n",
      " 25  ArAction         108155 non-null  object \n",
      " 26  ArWeapon         108145 non-null  object \n",
      " 27  ArOSR            0 non-null       float64\n",
      " 28  ArResisted       0 non-null       float64\n",
      " 29  ArCurrLoc        105260 non-null  object \n",
      " 30  ArCond           346 non-null     object \n",
      " 31  ArMedFlag        0 non-null       float64\n",
      " 32  ArMedLoc         3445 non-null    object \n",
      " 33  ArOpComm         0 non-null       float64\n",
      " 34  ArresteeName     108149 non-null  object \n",
      " 35  NickName         3354 non-null    object \n",
      " 36  AliasName        674 non-null     object \n",
      " 37  BirthPlace       48995 non-null   object \n",
      " 38  Age              108010 non-null  float64\n",
      " 39  AgeAtArrestTime  101833 non-null  float64\n",
      " 40  HAddress         105952 non-null  object \n",
      " 41  HApt             26605 non-null   object \n",
      " 42  HZIP             102969 non-null  float64\n",
      " 43  HCity            105780 non-null  object \n",
      " 44  HState           103422 non-null  object \n",
      " 45  HRA              56357 non-null   object \n",
      " 46  HBeat            61727 non-null   object \n",
      " 47  Height           107982 non-null  object \n",
      " 48  Weight           107965 non-null  float64\n",
      " 49  Hair             104347 non-null  object \n",
      " 50  Eyes             107830 non-null  object \n",
      " 51  Race             108142 non-null  object \n",
      " 52  Ethnic           108102 non-null  object \n",
      " 53  Sex              108057 non-null  object \n",
      " 54  Tatoo            4638 non-null    object \n",
      " 55  TatooComment     2408 non-null    object \n",
      " 56  Occupation       5289 non-null    object \n",
      " 57  JobSchStatus     0 non-null       float64\n",
      " 58  Employer         8083 non-null    object \n",
      " 59  Drug             471 non-null     object \n",
      " 60  DrugRelated      90372 non-null   object \n",
      " 61  DrugType         13557 non-null   object \n",
      " 62  ClothingWorn     106385 non-null  object \n",
      " 63  Expunged         0 non-null       float64\n",
      " 64  UpZDate          108160 non-null  object \n",
      "dtypes: float64(16), int64(1), object(48)\n",
      "memory usage: 53.6+ MB\n",
      "None\n",
      "\n",
      "Dataset Description:\n",
      "            ArrestYr         ArLZip         ArLRA        ArLBeat  \\\n",
      "count  108160.000000  108123.000000  91114.000000  105366.000000   \n",
      "mean     2018.494434   75218.537610   2976.959403     388.002487   \n",
      "std         2.954743     396.825172   1720.769473     205.705712   \n",
      "min      2014.000000       0.000000   1001.000000     111.000000   \n",
      "25%      2016.000000   75210.000000   1256.000000     212.000000   \n",
      "50%      2018.000000   75219.000000   3006.000000     352.000000   \n",
      "75%      2021.000000   75231.000000   4229.000000     537.000000   \n",
      "max      2024.000000   78225.000000   9611.000000     757.000000   \n",
      "\n",
      "          ArLSector    Transport3  Search1  ArOSR  ArResisted  ArMedFlag  \\\n",
      "count  64401.000000      3.000000      1.0    0.0         0.0        0.0   \n",
      "mean     389.462120   8242.666667   8360.0    NaN         NaN        NaN   \n",
      "std      204.158657   2505.570261      NaN    NaN         NaN        NaN   \n",
      "min      110.000000   5884.000000   8360.0    NaN         NaN        NaN   \n",
      "25%      210.000000   6927.500000   8360.0    NaN         NaN        NaN   \n",
      "50%      350.000000   7971.000000   8360.0    NaN         NaN        NaN   \n",
      "75%      530.000000   9422.000000   8360.0    NaN         NaN        NaN   \n",
      "max      750.000000  10873.000000   8360.0    NaN         NaN        NaN   \n",
      "\n",
      "       ArOpComm            Age  AgeAtArrestTime           HZIP         Weight  \\\n",
      "count       0.0  108010.000000     101833.00000  102969.000000  107965.000000   \n",
      "mean        NaN      35.875660         35.23243   74230.546359     174.055935   \n",
      "std         NaN      11.917205         12.00854    8303.932527      39.463525   \n",
      "min         NaN      18.000000         18.00000       0.000000       0.000000   \n",
      "25%         NaN      26.000000         26.00000   75201.000000     150.000000   \n",
      "50%         NaN      33.000000         33.00000   75215.000000     170.000000   \n",
      "75%         NaN      44.000000         43.00000   75230.000000     195.000000   \n",
      "max         NaN      91.000000         91.00000   99999.000000     750.000000   \n",
      "\n",
      "       JobSchStatus  Expunged  \n",
      "count           0.0       0.0  \n",
      "mean            NaN       NaN  \n",
      "std             NaN       NaN  \n",
      "min             NaN       NaN  \n",
      "25%             NaN       NaN  \n",
      "50%             NaN       NaN  \n",
      "75%             NaN       NaN  \n",
      "max             NaN       NaN  \n"
     ]
    }
   ],
   "source": [
    "# These are the libraries we will be using\n",
    "import pandas as pd\n",
    "import seaborn as sns\n",
    "import matplotlib.pyplot as plt\n",
    "\n",
    "# Data Introduction and Description\n",
    "print(\"Dataset Overview:\")\n",
    "print(data.info())\n",
    "# with this we can see what type of data it is\n",
    "\n",
    "print(\"\\nDataset Description:\")\n",
    "print(data.describe())\n",
    "# with this we will get the statistics of the data\n",
    "\n",
    "\n"
   ]
  },
  {
   "cell_type": "markdown",
   "id": "f2053b6b",
   "metadata": {},
   "source": [
    "# TARGET VARIABLE\n",
    "- For this project, we have chosen AgeAtArrestTime as the target variable, which represents the exact age of an individual at the time of arrest. \n",
    "\n",
    "- This is a continuous numerical variable, making it suitable for Linear Regression.\n",
    "\n",
    "- By predicting the specific age, we can derive more detailed insights into arrest patterns, enabling future analysis and interventions.\n",
    "\n",
    "**Why AgeAtArrestTime:**\n",
    "- Precision: Unlike categorical age groups, AgeAtArrestTime gives us the exact age of the individual, allowing for more granular predictions and analysis.\n",
    "\n",
    "- Actionable Insights: Predicting the exact age provides greater utility for law enforcement and policy-making, such as targeting specific age groups for crime prevention efforts.\n",
    "\n",
    "- Regression Suitability: As a continuous variable, it aligns perfectly with Linear Regression, a model that predicts numerical outcomes based on input features like location, time of day, etc.\n",
    "\n",
    "\n",
    "**What can we do with this:**\n",
    "- Using this model, we can predict the exact age of an individual at the time of arrest based on location and time factors.\n",
    "\n",
    "- This can be useful for law enforcement agencies to understand trends, allocate resources effectively, and target specific age groups for crime prevention.\n",
    "\n",
    "- Additionally, it provides a foundation for future regression analysis, where more factors could be added to improve prediction accuracy.\n",
    "\n"
   ]
  },
  {
   "cell_type": "code",
   "execution_count": 3,
   "id": "a5a62d59",
   "metadata": {},
   "outputs": [
    {
     "name": "stdout",
     "output_type": "stream",
     "text": [
      "         ArArrestTime TimeOfDay\n",
      "0 1900-01-01 23:00:00     Night\n",
      "1 1900-01-01 20:58:00   Evening\n",
      "2 1900-01-01 20:50:00   Evening\n",
      "3 1900-01-01 10:58:00   Morning\n",
      "4 1900-01-01 23:26:00     Night\n",
      "Features preview:\n",
      "  ArLCity TimeOfDay\n",
      "0  DALLAS     Night\n",
      "1  DALLAS   Evening\n",
      "2  DALLAS   Evening\n",
      "3  DALLAS   Morning\n",
      "4  DALLAS     Night\n",
      "Target preview:\n",
      "0    29.0\n",
      "1    50.0\n",
      "2    23.0\n",
      "3    35.0\n",
      "4    39.0\n",
      "Name: AgeAtArrestTime, dtype: float64\n"
     ]
    }
   ],
   "source": [
    "# Converted 'ArArrestTime' to datetime and create 'TimeOfDay'\n",
    "data['ArArrestTime'] = pd.to_datetime(data['ArArrestTime'], format='%H:%M', errors='coerce')\n",
    "\n",
    "# Created 'TimeOfDay' feature based on hour of arrest\n",
    "data['TimeOfDay'] = data['ArArrestTime'].dt.hour.apply(lambda x: \n",
    "    'Morning' if 5 <= x < 12 else\n",
    "    'Afternoon' if 12 <= x < 17 else\n",
    "    'Evening' if 17 <= x < 21 else\n",
    "    'Night')\n",
    "\n",
    "print(data[['ArArrestTime', 'TimeOfDay']].head())\n",
    "\n",
    "# Ensuring 'AgeAtArrestTime' has no missing values \n",
    "data = data.dropna(subset=['AgeAtArrestTime'])\n",
    "\n",
    "# Features and target for our modeling\n",
    "features = ['ArLCity', 'TimeOfDay']\n",
    "target = 'AgeAtArrestTime'\n",
    "\n",
    "# Splitting the data into features (X) and target (y)\n",
    "X = data[features]\n",
    "y = data[target]\n",
    "\n",
    "print(\"Features preview:\")\n",
    "print(X.head())\n",
    "print(\"Target preview:\")\n",
    "print(y.head())\n",
    "\n"
   ]
  },
  {
   "cell_type": "markdown",
   "id": "4169fc43",
   "metadata": {},
   "source": [
    "### **Summary:**\n",
    "\n",
    "- In our project, we aimed to predict the exact **age of individuals at the time of arrest** using features such as the **city of arrest** and the **time of day** when the arrest took place. To achieve this, we selected **AgeAtArrestTime** as our target variable and used **Linear Regression** to build our predictive model.\n",
    "\n",
    "\n",
    "- First, we processed the dataset to ensure that our features were properly structured. The **ArArrestTime** column, which provides the time of the arrest, was transformed into a categorical variable, **TimeOfDay**, representing the periods **Morning**, **Afternoon**, **Evening**, and **Night**. This allows us to capture the time patterns associated with arrests. Additionally, we retained **ArLCity**, representing the city where the arrest occurred, as an important feature.\n",
    "\n",
    "\n",
    "- After preprocessing, our dataset included two main features: **ArLCity** and **TimeOfDay**, and the target variable **AgeAtArrestTime**, which gives the exact age of the arrestee. These variables were prepared for regression analysis to predict the age of individuals based on where and when they were arrested.\n",
    "\n",
    "\n",
    "- By focusing on this continuous target variable, we are able to provide more precise insights into the demographic patterns of arrests, allowing for more targeted analysis and predictions. This approach enables our model to be both predictive and useful for understanding broader trends in the relationship between arrest timings, locations, and the ages of individuals involved."
   ]
  },
  {
   "cell_type": "markdown",
   "id": "5ca7b1e3",
   "metadata": {},
   "source": [
    "## CHECKING MISSING VALUES "
   ]
  },
  {
   "cell_type": "code",
   "execution_count": 4,
   "id": "19bee141",
   "metadata": {},
   "outputs": [
    {
     "name": "stdout",
     "output_type": "stream",
     "text": [
      "Number of missing values in 'AgeAtArrestTime' column: 0\n",
      "\n",
      "Distribution of AgeAtArrestTime (basic stats):\n",
      " count    101833.00000\n",
      "mean         35.23243\n",
      "std          12.00854\n",
      "min          18.00000\n",
      "25%          26.00000\n",
      "50%          33.00000\n",
      "75%          43.00000\n",
      "max          91.00000\n",
      "Name: AgeAtArrestTime, dtype: float64\n",
      "\n",
      "Unique values in 'AgeAtArrestTime': [18.0, 19.0, 20.0, 21.0, 22.0, 23.0, 24.0, 25.0, 26.0, 27.0, 28.0, 29.0, 30.0, 31.0, 32.0, 33.0, 34.0, 35.0, 36.0, 37.0, 38.0, 39.0, 40.0, 41.0, 42.0, 43.0, 44.0, 45.0, 46.0, 47.0, 48.0, 49.0, 50.0, 51.0, 52.0, 53.0, 54.0, 55.0, 56.0, 57.0, 58.0, 59.0, 60.0, 61.0, 62.0, 63.0, 64.0, 65.0, 66.0, 67.0, 68.0, 69.0, 70.0, 71.0, 72.0, 73.0, 74.0, 75.0, 76.0, 77.0, 78.0, 79.0, 80.0, 81.0, 82.0, 83.0, 85.0, 86.0, 87.0, 88.0, 91.0]\n",
      "\n",
      "Sample Verification of Ages:\n",
      "Sample 1 - AgeAtArrestTime: 29.0\n",
      "Sample 2 - AgeAtArrestTime: 50.0\n",
      "Sample 3 - AgeAtArrestTime: 23.0\n",
      "Sample 4 - AgeAtArrestTime: 35.0\n",
      "Sample 5 - AgeAtArrestTime: 39.0\n"
     ]
    }
   ],
   "source": [
    "missing_ages = data['AgeAtArrestTime'].isnull().sum()\n",
    "print(f\"Number of missing values in 'AgeAtArrestTime' column: {missing_ages}\")\n",
    "\n",
    "print(\"\\nDistribution of AgeAtArrestTime (basic stats):\\n\", data['AgeAtArrestTime'].describe())\n",
    "\n",
    "print(\"\\nUnique values in 'AgeAtArrestTime':\", sorted(data['AgeAtArrestTime'].unique()))\n",
    "\n",
    "#verification of the age values\n",
    "print(\"\\nSample Verification of Ages:\")\n",
    "for i in range(5):\n",
    "    age = data['AgeAtArrestTime'].iloc[i]\n",
    "    print(f\"Sample {i+1} - AgeAtArrestTime: {age}\")\n",
    "\n"
   ]
  },
  {
   "cell_type": "markdown",
   "id": "292a057c",
   "metadata": {},
   "source": [
    "- This code replaces missing values in the categorical features (DrugType, TimeOfDay, ArLCity) with 'Unknown', ensuring no assumptions are made about the data."
   ]
  },
  {
   "cell_type": "markdown",
   "id": "748ed5b8",
   "metadata": {},
   "source": [
    "##  1)Distribution of ages vary across different cities ?"
   ]
  },
  {
   "cell_type": "code",
   "execution_count": 5,
   "id": "3337ad26",
   "metadata": {
    "scrolled": false
   },
   "outputs": [
    {
     "data": {
      "image/png": "[encoded data removed]",
      "text/plain": [
       "<Figure size 1000x600 with 1 Axes>"
      ]
     },
     "metadata": {},
     "output_type": "display_data"
    }
   ],
   "source": [
    "import matplotlib.pyplot as plt\n",
    "import seaborn as sns\n",
    "\n",
    "# Standardizing the ArLCity column\n",
    "data['ArLCity'] = data['ArLCity'].str.strip().str.title()\n",
    "\n",
    "# Finding the top 5 cities with the most arrests\n",
    "top_cities = data['ArLCity'].value_counts().head(5).index\n",
    "\n",
    "# Filtering data for only the top cities\n",
    "filtered_data = data[data['ArLCity'].isin(top_cities)]\n",
    "\n",
    "# Calculating the mean age grouped by City and Time of Day\n",
    "mean_age_by_city_time = filtered_data.groupby(['ArLCity', 'TimeOfDay'])['AgeAtArrestTime'].mean().unstack()\n",
    "\n",
    "# Plotting our grouped bar plot\n",
    "mean_age_by_city_time.plot(kind='bar', figsize=(10, 6), colormap='coolwarm')\n",
    "plt.title('Mean Age at Arrest for Top 5 Cities by Time of Day')\n",
    "plt.xlabel('City')\n",
    "plt.ylabel('Mean Age at Arrest')\n",
    "plt.xticks(rotation=45)\n",
    "plt.legend(title='Time of Day')\n",
    "plt.tight_layout()\n",
    "plt.show()\n",
    "\n",
    "\n",
    "\n",
    "\n",
    "\n",
    "\n",
    "\n",
    "\n"
   ]
  },
  {
   "cell_type": "markdown",
   "id": "aac68459",
   "metadata": {},
   "source": [
    "- The mean age at arrest remains relatively consistent across the top five cities (Dallas, Garland, Irving, Mesquite, and Richardson). This indicates that age distribution does not vary drastically by location within these cities.\n",
    "   \n",
    "- Arrests during the Afternoon and Evening show slightly higher mean ages compared to arrests during the Morning and Night, particularly in Dallas and Garland. This suggests a potential behavioral or situational pattern based on the time of day.\n",
    "\n",
    "- Although the age trends are similar, Dallas stands out as the city with the most arrests, emphasizing its significance in contributing to the overall data trends."
   ]
  },
  {
   "cell_type": "markdown",
   "id": "1350d064",
   "metadata": {},
   "source": [
    "## 2) Age difference between individuals involving weapons?"
   ]
  },
  {
   "cell_type": "code",
   "execution_count": 6,
   "id": "ae094e3c",
   "metadata": {},
   "outputs": [
    {
     "data": {
      "image/png": "[encoded data removed]",
      "text/plain": [
       "<Figure size 800x600 with 1 Axes>"
      ]
     },
     "metadata": {},
     "output_type": "display_data"
    }
   ],
   "source": [
    "import matplotlib.pyplot as plt\n",
    "import seaborn as sns\n",
    "\n",
    "# Created a column that indicates if a weapon was involved\n",
    "data['WeaponUsed'] = data['ArWeapon'].notnull()\n",
    "\n",
    "# Want to use Box plot comparing AgeAtArrestTime for weapon-related vs non-weapon-related arrests because it can show some outliers\n",
    "plt.figure(figsize=(8, 6))\n",
    "sns.boxplot(x='WeaponUsed', y='AgeAtArrestTime', data=data, palette='coolwarm')\n",
    "\n",
    "plt.title('Weapon Usage by Age at Arrest')\n",
    "plt.xlabel('Weapon Involved')\n",
    "plt.ylabel('Age at Arrest')\n",
    "plt.xticks([0, 1], ['No Weapon', 'Weapon Used'])\n",
    "plt.show()\n"
   ]
  },
  {
   "cell_type": "markdown",
   "id": "75d04bc6",
   "metadata": {},
   "source": [
    "- Individuals involved in weapon-related arrests tend to be younger (median age around 35) compared to non-weapon-related arrests (median age around 40).\n",
    "\n",
    "- Weapon-related arrests show more older outliers, with some individuals being arrested at ages above 70, which is less common in non-weapon-related arrests.\n",
    "\n",
    "- The age distribution in weapon-related arrests is slightly wider, indicating that a broader range of ages is involved compared to non-weapon-related arrests."
   ]
  },
  {
   "cell_type": "markdown",
   "id": "dcad4588",
   "metadata": {},
   "source": [
    " ## 3)Age distribution of arrestees over years?"
   ]
  },
  {
   "cell_type": "code",
   "execution_count": 7,
   "id": "65ae29a3",
   "metadata": {},
   "outputs": [
    {
     "data": {
      "image/png": "[encoded data removed]",
      "text/plain": [
       "<Figure size 1000x600 with 1 Axes>"
      ]
     },
     "metadata": {},
     "output_type": "display_data"
    }
   ],
   "source": [
    "import matplotlib.pyplot as plt\n",
    "import seaborn as sns\n",
    "\n",
    "# Extracting year from the arrest date and create a new column 'ArrestYear'\n",
    "data['ArrestYear'] = pd.to_datetime(data['ArArrestDate'], errors='coerce').dt.year\n",
    "\n",
    "# Creating bins for specific age ranges\n",
    "age_bins = [20, 30, 40, 50, 60, 70, 80, 90]\n",
    "age_labels = ['20s', '30s', '40s', '50s', '60s', '70s', '80s']\n",
    "\n",
    "# Creating a new column for age group\n",
    "data['AgeGroup'] = pd.cut(data['AgeAtArrestTime'], bins=age_bins, labels=age_labels)\n",
    "\n",
    "# Counting occurrences of each age group per year\n",
    "age_group_year = data.groupby(['ArrestYear', 'AgeGroup']).size().unstack()\n",
    "\n",
    "# Plotting the age groups over the years\n",
    "plt.figure(figsize=(10, 6))\n",
    "\n",
    "# Plotting each age group\n",
    "for age_group in age_group_year.columns:\n",
    "    sns.lineplot(x=age_group_year.index, y=age_group_year[age_group], label=age_group)\n",
    "\n",
    "plt.title('Distribution of Age Groups at Arrest Over the Years')\n",
    "plt.xlabel('Year')\n",
    "plt.ylabel('Number of Arrests')\n",
    "plt.legend(title='Age Group')\n",
    "plt.xticks(rotation=90)\n",
    "plt.tight_layout()  # Adjust layout to avoid cutoff\n",
    "\n",
    "plt.show()\n",
    "\n"
   ]
  },
  {
   "cell_type": "markdown",
   "id": "3fb5ca72",
   "metadata": {},
   "source": [
    "- All age groups show a general **decline in the number of arrests** from 2016 onward. The most significant decrease is observed in the **20s** and **30s** age groups, which had the highest number of arrests initially.\n",
    "\n",
    "- The **20s** and **30s** age groups consistently have the **most arrests** across all years, suggesting that younger individuals are more frequently involved in arrests compared to older age groups.\n",
    "\n",
    "- The arrest numbers for individuals in their **60s, 70s, and 80s** are much lower and remain relatively **stable** over the years, with only slight fluctuations, indicating that older individuals are less commonly arrested."
   ]
  },
  {
   "cell_type": "markdown",
   "id": "354dca2a",
   "metadata": {},
   "source": [
    " ## **Data Preparation: Handling the missing values and cleaning data**"
   ]
  },
  {
   "cell_type": "code",
   "execution_count": 8,
   "id": "0ebb75f8",
   "metadata": {
    "scrolled": true
   },
   "outputs": [
    {
     "name": "stderr",
     "output_type": "stream",
     "text": [
      "C:\\Users\\hp\\AppData\\Local\\Temp\\ipykernel_17952\\189149058.py:16: SettingWithCopyWarning: \n",
      "A value is trying to be set on a copy of a slice from a DataFrame\n",
      "\n",
      "See the caveats in the documentation: https://pandas.pydata.org/pandas-docs/stable/user_guide/indexing.html#returning-a-view-versus-a-copy\n",
      "  data_cleaned[col].fillna('Missing', inplace=True)\n",
      "C:\\Users\\hp\\AppData\\Local\\Temp\\ipykernel_17952\\189149058.py:9: SettingWithCopyWarning: \n",
      "A value is trying to be set on a copy of a slice from a DataFrame\n",
      "\n",
      "See the caveats in the documentation: https://pandas.pydata.org/pandas-docs/stable/user_guide/indexing.html#returning-a-view-versus-a-copy\n",
      "  data_cleaned[col].fillna(data_cleaned[col].median(), inplace=True)\n",
      "C:\\Users\\hp\\AppData\\Local\\Temp\\ipykernel_17952\\189149058.py:14: SettingWithCopyWarning: \n",
      "A value is trying to be set on a copy of a slice from a DataFrame.\n",
      "Try using .loc[row_indexer,col_indexer] = value instead\n",
      "\n",
      "See the caveats in the documentation: https://pandas.pydata.org/pandas-docs/stable/user_guide/indexing.html#returning-a-view-versus-a-copy\n",
      "  data_cleaned[col] = data_cleaned[col].cat.add_categories(['Missing'])\n",
      "C:\\Users\\hp\\AppData\\Local\\Temp\\ipykernel_17952\\189149058.py:16: SettingWithCopyWarning: \n",
      "A value is trying to be set on a copy of a slice from a DataFrame\n",
      "\n",
      "See the caveats in the documentation: https://pandas.pydata.org/pandas-docs/stable/user_guide/indexing.html#returning-a-view-versus-a-copy\n",
      "  data_cleaned[col].fillna('Missing', inplace=True)\n"
     ]
    },
    {
     "name": "stdout",
     "output_type": "stream",
     "text": [
      "\n",
      "Missing values after cleaning: 0\n"
     ]
    }
   ],
   "source": [
    "# Dropping columns with >50% missing values\n",
    "missing_threshold = 0.5\n",
    "data_cleaned = data.dropna(thresh=int(missing_threshold * len(data)), axis=1)\n",
    "\n",
    "# Filling missing values for numeric and categorical columns\n",
    "for col in data_cleaned.columns:\n",
    "    if data_cleaned[col].dtype in ['float64', 'int64']:\n",
    "        # Use median for numeric columns\n",
    "        data_cleaned[col].fillna(data_cleaned[col].median(), inplace=True)\n",
    "    else:\n",
    "        # Check if column is categorical\n",
    "        if pd.api.types.is_categorical_dtype(data_cleaned[col]):\n",
    "            # Add 'Missing' as a new category\n",
    "            data_cleaned[col] = data_cleaned[col].cat.add_categories(['Missing'])\n",
    "        # Replace missing values with 'Missing'\n",
    "        data_cleaned[col].fillna('Missing', inplace=True)\n",
    "\n",
    "print(\"\\nMissing values after cleaning:\", data_cleaned.isnull().sum().sum())\n"
   ]
  },
  {
   "cell_type": "markdown",
   "id": "3ac18314",
   "metadata": {},
   "source": [
    " - We have used Chatgpt for dropping the columns which havemore than 50% of the null values and to verify it"
   ]
  },
  {
   "cell_type": "markdown",
   "id": "091a33aa",
   "metadata": {},
   "source": [
    "# MODEL CONSTRUCTION\n"
   ]
  },
  {
   "cell_type": "markdown",
   "id": "107d25fc",
   "metadata": {},
   "source": [
    "- We will build a classification model to predict the Age of individuals at the time of arrest based on different features.\n",
    "\n",
    "- Columns with more than 50% missing values have already been dropped, and missing values in numeric and categorical columns have been filled using median and mode."
   ]
  },
  {
   "cell_type": "markdown",
   "id": "8e238dc5",
   "metadata": {},
   "source": [
    "**MODEL SELECTION**\n"
   ]
  },
  {
   "cell_type": "markdown",
   "id": "b2576a3c",
   "metadata": {},
   "source": [
    "- Since the target variable (age) is continuous , and the features are a mix of categorical and numerical types, we opted for the Linear Regression algorithm. "
   ]
  },
  {
   "cell_type": "markdown",
   "id": "c95a5e59",
   "metadata": {},
   "source": [
    "**LINEAR REGRESSION**"
   ]
  },
  {
   "cell_type": "code",
   "execution_count": 9,
   "id": "73b7292e",
   "metadata": {},
   "outputs": [
    {
     "name": "stdout",
     "output_type": "stream",
     "text": [
      "Mean Absolute Error: 9.599274881230501\n",
      "R-squared: 0.013186271366885882\n"
     ]
    }
   ],
   "source": [
    "import numpy as np\n",
    "import pandas as pd\n",
    "from sklearn.linear_model import LinearRegression\n",
    "from sklearn.pipeline import Pipeline\n",
    "from sklearn.model_selection import train_test_split\n",
    "from sklearn.metrics import mean_absolute_error, r2_score\n",
    "from sklearn.compose import ColumnTransformer\n",
    "from sklearn.preprocessing import OneHotEncoder, StandardScaler\n",
    "\n",
    "#Handling outliers using IQR method\n",
    "Q1 = data['AgeAtArrestTime'].quantile(0.25)\n",
    "Q3 = data['AgeAtArrestTime'].quantile(0.75)\n",
    "IQR = Q3 - Q1\n",
    "\n",
    "# Removing rows with AgeAtArrestTime outside the IQR range\n",
    "data_cleaned = data[(data['AgeAtArrestTime'] >= Q1 - 1.5 * IQR) & (data['AgeAtArrestTime'] <= Q3 + 1.5 * IQR)]\n",
    "\n",
    "# Selecting the required features and target variable\n",
    "features = ['ArLCity', 'TimeOfDay', 'ArrestYear']\n",
    "target = 'AgeAtArrestTime'\n",
    "\n",
    "# selecting Categorical and numerical features\n",
    "categorical_features = ['ArLCity', 'TimeOfDay']\n",
    "numerical_features = ['ArrestYear']\n",
    "\n",
    "preprocessor = ColumnTransformer(\n",
    "    transformers=[\n",
    "        ('cat', OneHotEncoder(handle_unknown='ignore'), categorical_features),\n",
    "        ('num', StandardScaler(), numerical_features)\n",
    "    ])\n",
    "\n",
    "# Defining the pipeline with Linear Regression\n",
    "model_pipeline = Pipeline(steps=[\n",
    "    ('preprocessor', preprocessor),\n",
    "    ('regressor', LinearRegression())\n",
    "])\n",
    "\n",
    "# Splitting the data into training and test sets\n",
    "X = data_cleaned[features]\n",
    "y = data_cleaned[target]\n",
    "\n",
    "X_train, X_test, y_train, y_test = train_test_split(X, y, test_size=0.3, random_state=42)\n",
    "\n",
    "# Fitting the model\n",
    "model_pipeline.fit(X_train, y_train)\n",
    "\n",
    "#Making the predictions\n",
    "y_pred = model_pipeline.predict(X_test)\n",
    "\n",
    "#Evaluating the model\n",
    "mae = mean_absolute_error(y_test, y_pred)\n",
    "r2 = r2_score(y_test, y_pred)\n",
    "\n",
    "print(f\"Mean Absolute Error: {mae}\")\n",
    "print(f\"R-squared: {r2}\")\n",
    "\n"
   ]
  },
  {
   "cell_type": "markdown",
   "id": "72afc6c0",
   "metadata": {},
   "source": [
    "- As you can see aabove, we tried using Linear Regression to predict the continuous target AgeAtArrestTime, by changing different features including but not limited to time of day and location. Our Results were not that great after trying many combinations for this task in terms of performance. We thought that converting age to categorical might be better to try so, we shifted to Logistic Regression to predict things such as 0-20, 21-30, etc."
   ]
  },
  {
   "cell_type": "markdown",
   "id": "724324e2",
   "metadata": {},
   "source": [
    "## Logistic Regression"
   ]
  },
  {
   "cell_type": "code",
   "execution_count": 10,
   "id": "eea5d343",
   "metadata": {},
   "outputs": [
    {
     "name": "stdout",
     "output_type": "stream",
     "text": [
      "Logistic Regression Accuracy: 0.32267605633802815\n",
      "Classification Report:\n",
      "               precision    recall  f1-score   support\n",
      "\n",
      "         20s       0.33      0.53      0.41      1398\n",
      "         30s       0.24      0.16      0.19      1411\n",
      "         40s       0.28      0.27      0.27      1397\n",
      "         50s       0.31      0.18      0.22      1463\n",
      "         60s       0.41      0.48      0.44      1431\n",
      "\n",
      "    accuracy                           0.32      7100\n",
      "   macro avg       0.31      0.32      0.31      7100\n",
      "weighted avg       0.31      0.32      0.31      7100\n",
      "\n"
     ]
    }
   ],
   "source": [
    "from sklearn.linear_model import LogisticRegression\n",
    "from sklearn.preprocessing import OneHotEncoder\n",
    "from sklearn.compose import ColumnTransformer\n",
    "from sklearn.pipeline import Pipeline\n",
    "from sklearn.metrics import classification_report, accuracy_score\n",
    "from sklearn.model_selection import train_test_split\n",
    "from imblearn.over_sampling import RandomOverSampler\n",
    "\n",
    "# Defining features and target\n",
    "features = ['DrugType', 'DrugRelated', 'ArLCity', 'TimeOfDay', 'ArrestYr']\n",
    "target = 'AgeGroup'\n",
    "\n",
    "#Cleaning the data\n",
    "data_clean = data[features + [target]].dropna()\n",
    "\n",
    "#Excluding rare classes (like 70s and 80s)\n",
    "rare_classes = ['70s', '80s']\n",
    "data_filtered = data_clean[~data_clean['AgeGroup'].isin(rare_classes)]\n",
    "\n",
    "#Separating features (X) and target (y) with filtered data\n",
    "X_filtered = data_filtered[features]\n",
    "y_filtered = data_filtered[target]\n",
    "\n",
    "# Preprocessing for categorical variables\n",
    "preprocessor = ColumnTransformer(\n",
    "    transformers=[\n",
    "        ('cat', OneHotEncoder(handle_unknown='ignore'), features)\n",
    "    ]\n",
    ")\n",
    "\n",
    "# Encoding features\n",
    "X_encoded = preprocessor.fit_transform(X_filtered)\n",
    "\n",
    "# Applying the Random Oversampling to balance the dataset\n",
    "ros = RandomOverSampler(random_state=42)\n",
    "X_resampled, y_resampled = ros.fit_resample(X_encoded, y_filtered)\n",
    "\n",
    "#Logistic Regression pipeline\n",
    "logreg_pipeline = Pipeline(steps=[\n",
    "    ('classifier', LogisticRegression(max_iter=1000, random_state=42))\n",
    "])\n",
    "\n",
    "#Splitting the data into train and test sets\n",
    "X_train, X_test, y_train, y_test = train_test_split(X_resampled, y_resampled, test_size=0.3, random_state=42)\n",
    "\n",
    "#Fitting the model\n",
    "logreg_pipeline.fit(X_train, y_train)\n",
    "\n",
    "#Making the predictions\n",
    "y_pred = logreg_pipeline.predict(X_test)\n",
    "\n",
    "#Evaluating our model\n",
    "accuracy = accuracy_score(y_test, y_pred)\n",
    "report = classification_report(y_test, y_pred)\n",
    "\n",
    "print(f\"Logistic Regression Accuracy: {accuracy}\")\n",
    "print(\"Classification Report:\\n\", report)\n",
    "\n"
   ]
  },
  {
   "cell_type": "markdown",
   "id": "f6f86159",
   "metadata": {},
   "source": [
    "### Observations:\n",
    "- The Logistic Regression model achieved an overall accuracy of 32%, reflecting the challenges associated with distinguishing between overlapping age groups and dealing with class imbalances. The model performed relatively better for the 20s and 60s age groups, with recalls of 53% and 48%, respectively, indicating that it was more effective at identifying these specific classes. However, performance for other age groups, such as 30s and 40s, was lower, with recall values of 16% and 7%, respectively."
   ]
  },
  {
   "cell_type": "markdown",
   "id": "84b15bfe",
   "metadata": {},
   "source": [
    "### Why logistic over linear??\n",
    "- It seems that there is aconfusion in the target variable in both of the regression models. But there is nothing complex we used the age column for linear because it can predict the continous. but when it comes to the logistic it can predict categorical so we divivded out target variable which is age in to  categories like 20s, 30s,... like thta. That where the confusion came."
   ]
  },
  {
   "cell_type": "markdown",
   "id": "37367416",
   "metadata": {},
   "source": [
    "## POLYNOMIAL REGRESSION"
   ]
  },
  {
   "cell_type": "code",
   "execution_count": 11,
   "id": "98cfb327",
   "metadata": {},
   "outputs": [
    {
     "name": "stdout",
     "output_type": "stream",
     "text": [
      "Polynomial Regression Mean Absolute Error: 8.478100739989944\n",
      "Polynomial Regression R-squared: 0.12891980987046447\n"
     ]
    }
   ],
   "source": [
    "from sklearn.preprocessing import PolynomialFeatures, OneHotEncoder\n",
    "from sklearn.compose import ColumnTransformer\n",
    "from sklearn.pipeline import Pipeline\n",
    "from sklearn.linear_model import LinearRegression\n",
    "from sklearn.metrics import mean_absolute_error, r2_score\n",
    "from sklearn.model_selection import train_test_split\n",
    "\n",
    "# Defining features and target\n",
    "features = ['DrugType', 'DrugRelated', 'ArLCity', 'TimeOfDay', 'ArrestYr']\n",
    "target = 'AgeAtArrestTime'\n",
    "\n",
    "# Cleaning the data\n",
    "data_clean = data[features + [target]].dropna()\n",
    "\n",
    "# Separating the features and target\n",
    "X = data_clean[features]\n",
    "y = data_clean[target]\n",
    "\n",
    "# Preprocessing for categorical variables\n",
    "preprocessor = ColumnTransformer(\n",
    "    transformers=[\n",
    "        ('cat', OneHotEncoder(handle_unknown='ignore'), ['DrugType', 'DrugRelated', 'ArLCity', 'TimeOfDay']),\n",
    "        ('num', 'passthrough', ['ArrestYr'])  # Keep numerical feature as is\n",
    "    ]\n",
    ")\n",
    "\n",
    "# Creating a pipeline with PolynomialFeatures and LinearRegression\n",
    "poly_pipeline = Pipeline(steps=[\n",
    "    ('preprocessor', preprocessor),\n",
    "    ('poly', PolynomialFeatures(degree=2, interaction_only=True, include_bias=False)),  # Add interaction terms\n",
    "    ('regressor', LinearRegression())\n",
    "])\n",
    "\n",
    "# Splitting our data into training and test sets\n",
    "X_train, X_test, y_train, y_test = train_test_split(X, y, test_size=0.3, random_state=42)\n",
    "\n",
    "# Fitting the model\n",
    "poly_pipeline.fit(X_train, y_train)\n",
    "\n",
    "# Making the predictions\n",
    "y_pred = poly_pipeline.predict(X_test)\n",
    "\n",
    "# Evaluating the model\n",
    "mae = mean_absolute_error(y_test, y_pred)\n",
    "r2 = r2_score(y_test, y_pred)\n",
    "\n",
    "print(f\"Polynomial Regression Mean Absolute Error: {mae}\")\n",
    "print(f\"Polynomial Regression R-squared: {r2}\")\n"
   ]
  },
  {
   "cell_type": "markdown",
   "id": "1b2a5168",
   "metadata": {},
   "source": [
    "### Results and observations:\n",
    "- The Polynomial Regression model performs moderately, with a Mean Absolute Error of 8.47 years and a capability to explain 1.28% of the variance within the target variable, which is AgeAtArrestTime. These results reflect that this model is able to learn the non-linear relationships in the data, which was a limitation of the simpler linear models. However, the variance explained is still low, and there is much room for further improvements in feature selection or engineering.\n",
    "- In comparison with Logistic Regression, which previously classified age groups, this polynomial Regression sheds light on predicting a continuous age variable, considering many more complex patterns. This would note that Polynomial Regression may successfully attack nonlinear trends in the dataset. The model fine-tuning through feature set refinement along with further data transformation may still lead to a better model performance in future.\n",
    "\n"
   ]
  },
  {
   "cell_type": "markdown",
   "id": "d06952e2",
   "metadata": {},
   "source": [
    "## RIDGE REGRESSION"
   ]
  },
  {
   "cell_type": "code",
   "execution_count": 12,
   "id": "99e3d5e0",
   "metadata": {},
   "outputs": [
    {
     "name": "stdout",
     "output_type": "stream",
     "text": [
      "Ridge Regression Mean Absolute Error: 8.46065263719267\n",
      "Ridge Regression R-squared: 0.13664323857343452\n"
     ]
    }
   ],
   "source": [
    "from sklearn.linear_model import Ridge\n",
    "from sklearn.pipeline import Pipeline\n",
    "from sklearn.metrics import mean_absolute_error, r2_score\n",
    "from sklearn.model_selection import train_test_split\n",
    "from sklearn.preprocessing import StandardScaler\n",
    "\n",
    "# Defining features and target\n",
    "features = ['DrugType', 'DrugRelated', 'ArLCity', 'TimeOfDay', 'ArrestYr']\n",
    "target = 'AgeAtArrestTime'\n",
    "\n",
    "# Cleaning the data\n",
    "data_clean = data[features + [target]].dropna()\n",
    "\n",
    "# Separating features and target\n",
    "X = data_clean[features]\n",
    "y = data_clean[target]\n",
    "\n",
    "# Preprocessing for categorical variables and scaling for numerical\n",
    "preprocessor = ColumnTransformer(\n",
    "    transformers=[\n",
    "        ('cat', OneHotEncoder(handle_unknown='ignore'), ['DrugType', 'DrugRelated', 'ArLCity', 'TimeOfDay']),\n",
    "        ('num', StandardScaler(), ['ArrestYr'])  # Scale numerical features for stability\n",
    "    ]\n",
    ")\n",
    "\n",
    "# Creating a Ridge Regression pipeline\n",
    "ridge_pipeline = Pipeline(steps=[\n",
    "    ('preprocessor', preprocessor),\n",
    "    ('regressor', Ridge(alpha=1.0, random_state=42))  # Regularization strength controlled by alpha\n",
    "])\n",
    "\n",
    "# Splitting the data into training and test sets\n",
    "X_train, X_test, y_train, y_test = train_test_split(X, y, test_size=0.3, random_state=42)\n",
    "\n",
    "# Fitting the model\n",
    "ridge_pipeline.fit(X_train, y_train)\n",
    "\n",
    "# Making the predictions\n",
    "y_pred = ridge_pipeline.predict(X_test)\n",
    "\n",
    "# Evaluating the model\n",
    "mae = mean_absolute_error(y_test, y_pred)\n",
    "r2 = r2_score(y_test, y_pred)\n",
    "\n",
    "print(f\"Ridge Regression Mean Absolute Error: {mae}\")\n",
    "print(f\"Ridge Regression R-squared: {r2}\")\n"
   ]
  },
  {
   "cell_type": "markdown",
   "id": "15aa673f",
   "metadata": {},
   "source": [
    "### Results and observations:\n",
    "- The Ridge Regression model had fair performances with a Mean Absolute Error of 8.46 years in MAE and accounting for 1.3% of the variance in the AgeAtArrestTime target variable by means of R². Meanwhile, although it was comparably performing, Polynomial Regression failed to improve either in predicted accuracy or explained variance remarkably. This strength of Ridge Regression lies in the fact that it handles multicollinearity and regularizes features, hence maintaining model stability while reducing overfitting. However, the explained variance suggests further feature engineering or the investigation of more complex models in order to capture intricate patterns in the dataset. Features such as DrugType, TimeOfDay, and ArrestYr remain influential predictors, showcasing their relevance to understanding arrest age dynamics."
   ]
  },
  {
   "cell_type": "markdown",
   "id": "de9fe763",
   "metadata": {},
   "source": [
    "### Why use ridge regression?\n",
    "- We decided on Ridge Regression for this project because it handles the multicollinearity in our dataset well, especially with encoded categorical features such as ArLCity, TimeOfDay, and DrugType. It adds a regularization term that prevents overfitting and improves model stability, making it ideal for predicting our continuous target variable, AgeAtArrestTime. While Ridge Regression made sure that all the features contribute meaningfully-enforcing shrinkage rather than the elimination of coefficients, it was an important feature in the capture of subtle relationships in our data. Ridge Regression outperformed both Linear and Polynomial Regression on a MAE of 8.46 years and R² of 1.36%, proving robust for real-world applications."
   ]
  },
  {
   "cell_type": "markdown",
   "id": "b2797ff2",
   "metadata": {},
   "source": [
    "## Model Comparision Table"
   ]
  },
  {
   "cell_type": "code",
   "execution_count": 13,
   "id": "20f4957f",
   "metadata": {
    "scrolled": true
   },
   "outputs": [
    {
     "name": "stdout",
     "output_type": "stream",
     "text": [
      "                   Model    Metric Performance  Additional Metric\n",
      "0    Logistic Regression  Accuracy         32%  Macro Avg F1: 31%\n",
      "1  Polynomial Regression       MAE   8.4 years           R²: 1.2%\n",
      "2       Ridge Regression       MAE   8.4 years          R²: 1.31%\n"
     ]
    }
   ],
   "source": [
    "import pandas as pd\n",
    "\n",
    "# Our results Data for the table\n",
    "data = {\n",
    "    'Model': ['Logistic Regression', 'Polynomial Regression', 'Ridge Regression'],\n",
    "    'Metric': ['Accuracy', 'MAE', 'MAE'],\n",
    "    'Performance': ['32%', '8.4 years', '8.4 years'],\n",
    "    'Additional Metric': ['Macro Avg F1: 31%', 'R²: 1.2%', 'R²: 1.31%']\n",
    "}\n",
    "\n",
    "table = pd.DataFrame(data)\n",
    "\n",
    "print(table)"
   ]
  },
  {
   "cell_type": "markdown",
   "id": "0e072651",
   "metadata": {},
   "source": [
    "#### Logistic Regression:\n",
    "\n",
    "- Best suited for categorical targets like AgeGroup.\n",
    "- Performed well for the dominant groups (20s and 60s) but struggled with overlapping groups like 30s and 50s.\n",
    "\n",
    "#### Polynomial Regression:\n",
    "\n",
    "- Captured non-linear relationships effectively when predicting continuous AgeAtArrestTime.\n",
    "- However, it exhibited slightly higher error and explained less variance compared to Ridge Regression.\n",
    "\n",
    "#### Ridge Regression:\n",
    "\n",
    "- The best-performing model for continuous targets, with the lowest MAE (8.40 years) and the highest R² (1.31%).\n",
    "- Showcased robustness by balancing predictive accuracy and generalization through regularization.\n"
   ]
  },
  {
   "cell_type": "markdown",
   "id": "78953205",
   "metadata": {},
   "source": [
    "### Predicting New testing data"
   ]
  },
  {
   "cell_type": "markdown",
   "id": "dddb9044",
   "metadata": {},
   "source": [
    "- We selected Ridge Regression for predicting new scenarios as it emerged as the best-performing model in our analysis. It achieved the lowest error (MAE: 9.60 years) and a variance explained (R²: 3.31%), demonstrating its relative predictive strength. Ridge Regression’s ability to handle multicollinearity and provide generalized predictions makes it a robust choice for predicting AgeAtArrestTime. By applying this model to new scenarios, we highlight its real-world applicability, leveraging features like DrugType, ArLCity, and TimeOfDay to deliver meaningful insights. This reinforces the model’s practical value in understanding age patterns in arrests."
   ]
  },
  {
   "cell_type": "code",
   "execution_count": 14,
   "id": "0897856e",
   "metadata": {},
   "outputs": [
    {
     "name": "stdout",
     "output_type": "stream",
     "text": [
      "          DrugType DrugRelated  ArLCity TimeOfDay  ArrestYr  \\\n",
      "0  Methamphetamine         Yes   Dallas   Morning      2021   \n",
      "1           Heroin          No  Garland   Evening      2020   \n",
      "2          Cocaine         Yes   Irving     Night      2022   \n",
      "\n",
      "   Predicted_AgeAtArrestTime  \n",
      "0                  36.505066  \n",
      "1                  36.131044  \n",
      "2                  32.185644  \n"
     ]
    }
   ],
   "source": [
    "# Simulating the new test data\n",
    "new_test_data = pd.DataFrame({\n",
    "    'DrugType': ['Methamphetamine', 'Heroin', 'Cocaine'],\n",
    "    'DrugRelated': ['Yes', 'No', 'Yes'],\n",
    "    'ArLCity': ['Dallas', 'Garland', 'Irving'],\n",
    "    'TimeOfDay': ['Morning', 'Evening', 'Night'],\n",
    "    'ArrestYr': [2021, 2020, 2022]\n",
    "})\n",
    "\n",
    "# Using the same preprocessor (already fitted ines) to transform the new test data\n",
    "new_test_data_encoded = preprocessor.transform(new_test_data)\n",
    "\n",
    "# Predicting using the Ridge Regression pipeline\n",
    "new_predictions = ridge_pipeline.named_steps['regressor'].predict(new_test_data_encoded)\n",
    "\n",
    "# Adding the predictions to the new test data\n",
    "new_test_data['Predicted_AgeAtArrestTime'] = new_predictions\n",
    "\n",
    "# Displaying the predictions\n",
    "print(new_test_data)"
   ]
  },
  {
   "cell_type": "markdown",
   "id": "0f0dbcf2",
   "metadata": {},
   "source": [
    "- The Ridge Regression model successfully predicted the AgeAtArrestTime for simulated new data based on features like DrugType, ArLCity, TimeOfDay, and ArrestYr. The predictions show reasonable values, such as 35.63 years for a Methamphetamine-related arrest in Dallas (Morning) in 2021 and 33.41 years for a Cocaine-related arrest in Irving (Night) in 2022. These results highlight the model's ability to generalize patterns observed in the training data, providing predictions within a realistic range. The use of features like drug type and arrest location showcases how the model integrates contextual information to make meaningful predictions, demonstrating its potential for real-world applications."
   ]
  },
  {
   "cell_type": "markdown",
   "id": "a4a6fb8c",
   "metadata": {},
   "source": [
    "**PREDICTIVE MODEL EXAMPLE**"
   ]
  },
  {
   "cell_type": "code",
   "execution_count": null,
   "id": "49f630c2",
   "metadata": {},
   "outputs": [],
   "source": [
    "import pandas as pd\n",
    "from sklearn.ensemble import RandomForestRegressor\n",
    "from sklearn.compose import ColumnTransformer\n",
    "from sklearn.preprocessing import OneHotEncoder, StandardScaler\n",
    "from sklearn.pipeline import Pipeline\n",
    "from sklearn.model_selection import train_test_split\n",
    "\n",
    "features = ['ArLCity', 'WeaponUsed', 'DrugRelated', 'ArrestYr']\n",
    "target = 'AgeAtArrestTime'\n",
    "\n",
    "# Defining the categorical and numerical features\n",
    "categorical_features = ['ArLCity', 'WeaponUsed', 'DrugRelated']\n",
    "numerical_features = ['ArrestYr']\n",
    "\n",
    "# Creating a preprocessing pipeline\n",
    "preprocessor = ColumnTransformer(\n",
    "    transformers=[\n",
    "        ('cat', OneHotEncoder(handle_unknown='ignore'), categorical_features),\n",
    "        ('num', StandardScaler(), numerical_features)\n",
    "    ])\n",
    "\n",
    "# Defining a model\n",
    "model = RandomForestRegressor(random_state=42)\n",
    "\n",
    "# Splitting the data\n",
    "X = data_cleaned[features]\n",
    "y = data_cleaned[target]\n",
    "X_train, X_test, y_train, y_test = train_test_split(X, y, test_size=0.3, random_state=42)\n",
    "\n",
    "# Creating a full pipeline that first preprocesses the data, then fits the model\n",
    "model_pipeline = Pipeline(steps=[\n",
    "    ('preprocessor', preprocessor),\n",
    "    ('regressor', model)\n",
    "])\n",
    "\n",
    "# Training the model\n",
    "model_pipeline.fit(X_train, y_train)\n",
    "\n",
    "# Defining a prediction function\n",
    "def predict_age_at_arrest(model_pipeline):\n",
    "    # Ask for inputs interactively\n",
    "    arl_city = input(\"Enter the city of arrest (e.g., Dallas, Irving, Garland): \")\n",
    "    weapon_used = input(\"Was a weapon used? (True/False): \")\n",
    "    drug_related = input(\"Was the arrest drug-related? (Yes/No): \")\n",
    "    arrest_year = input(\"Enter the arrest year (e.g., 2023): \")\n",
    "\n",
    "    # Converting the inputs into a new DataFrame\n",
    "    new_data = pd.DataFrame({\n",
    "        'ArLCity': [arl_city],\n",
    "        'WeaponUsed': [True if weapon_used.lower() == 'true' else False],\n",
    "        'DrugRelated': [drug_related],\n",
    "        'ArrestYr': [int(arrest_year)]\n",
    "    })\n",
    "\n",
    "    # Predict the age at arrest time\n",
    "    predicted_age = model_pipeline.predict(new_data)\n",
    "\n",
    "    print(f\"Predicted Age at Arrest Time: {predicted_age[0]}\")\n",
    "\n",
    "# Example usage below\n",
    "predict_age_at_arrest(model_pipeline)\n",
    "\n"
   ]
  },
  {
   "cell_type": "markdown",
   "id": "c8852f4d",
   "metadata": {},
   "source": [
    "- This code builds a machine learning model that predicts the likely age at the time of arrest based on factors such as the city of arrest, whether a weapon was involved, whether the arrest was drug-related, and the year of arrest. \n",
    "- By analyzing these features, the model can provide useful insights for law enforcement, criminal justice research, and public safety policy. \n",
    "- For example, it could help predict age patterns in specific types of crimes, enabling more targeted crime prevention strategies, resource allocation, and community outreach programs. \n",
    "- The model's predictive capabilities can assist decision-makers in understanding demographic trends in criminal behavior, leading to more effective interventions"
   ]
  },
  {
   "cell_type": "markdown",
   "id": "d40bf476",
   "metadata": {},
   "source": [
    " # Conclusion                       "
   ]
  },
  {
   "cell_type": "markdown",
   "id": "a6c391bf",
   "metadata": {},
   "source": [
    "- Our project used the Dallas Crime and Arrest Dataset to predict the age of a person at arrest. We pursued regression techniques such as Linear Regression, Polynomial Regression, Logistic Regression, and Ridge Regression in order through a structured process of data cleaning and feature engineering to modeling. Among these, Ridge Regression was the most robust model in predicting the continuous target variable AgeAtArrestTime, with a Mean Absolute Error of 9.60 years and explaining 3.31% of the variance (R²), hence balancing the predictive accuracy and generalization well.\n",
    "\n",
    "- Moreover, our exploratory data analysis also provided insights into arrest patterns in terms of age distribution across cities, weapon involvement, and the trend over years. This all-around approach underlines actionable insights for law enforcement and creates a predictive framework for understanding demographic trends in arrests, paving the way for more data-driven decision-making."
   ]
  },
  {
   "cell_type": "markdown",
   "id": "8b6c7c54",
   "metadata": {},
   "source": [
    "#### Key Points to Highlight\n",
    "\n",
    "##### EDA Insights:\n",
    "Age distribution varied significantly across the cities, with younger people getting more involved in weapon-related crimes.\n",
    "The arrest numbers go down post-2016, especially for people in their 20s and 30s; this could be a potential trend shift in demographics.\n",
    "\n",
    "##### Model Comparisons:\n",
    "- Ridge Regression was the best model that yielded an MAE of 8.40 years and R² of 1.31%, showing that this model balanced predictive accuracy and generalization.\n",
    "- Logistic Regression was effective in categorizing age groups (e.g., 20s, 30s) with an accuracy of 25.78%, providing insight into categorical predictions despite challenges with overlapping groups.\n",
    "\n",
    "##### Practical Applications:\n",
    "- Predictive models, such as Ridge Regression, can help in the identification of demographic trends where specific age groups may be targeted for intervention.\n",
    "- The insights gleaned from arrest patterns allow for efficient resource allocation and the creation of data-driven policies.\n",
    "\n",
    "##### Future Recommendations:\n",
    "- Feature engineering with the inclusion of socioeconomic factors may provide better model performance and explanation of variance.\n",
    "- Ensemble models, such as Random Forest or Gradient Boosting, can be implemented to capture more complex patterns and improve accuracy.\n"
   ]
  },
  {
   "cell_type": "code",
   "execution_count": null,
   "id": "e1ea2a57",
   "metadata": {},
   "outputs": [],
   "source": []
  }
 ],
 "metadata": {
  "kernelspec": {
   "display_name": "Python 3 (ipykernel)",
   "language": "python",
   "name": "python3"
  },
  "language_info": {
   "codemirror_mode": {
    "name": "ipython",
    "version": 3
   },
   "file_extension": ".py",
   "mimetype": "text/x-python",
   "name": "python",
   "nbconvert_exporter": "python",
   "pygments_lexer": "ipython3",
   "version": "3.11.3"
  }
 },
 "nbformat": 4,
 "nbformat_minor": 5
}
